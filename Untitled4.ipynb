{
 "cells": [
  {
   "cell_type": "markdown",
   "id": "53b8e592-d981-4321-b44b-90b769d97c61",
   "metadata": {},
   "source": [
    "# Load the Dataset"
   ]
  },
  {
   "cell_type": "code",
   "execution_count": 2,
   "id": "88b3124e-920a-473c-be90-78429fb9742c",
   "metadata": {},
   "outputs": [
    {
     "data": {
      "text/html": [
       "<div>\n",
       "<style scoped>\n",
       "    .dataframe tbody tr th:only-of-type {\n",
       "        vertical-align: middle;\n",
       "    }\n",
       "\n",
       "    .dataframe tbody tr th {\n",
       "        vertical-align: top;\n",
       "    }\n",
       "\n",
       "    .dataframe thead th {\n",
       "        text-align: right;\n",
       "    }\n",
       "</style>\n",
       "<table border=\"1\" class=\"dataframe\">\n",
       "  <thead>\n",
       "    <tr style=\"text-align: right;\">\n",
       "      <th></th>\n",
       "      <th>CRIM</th>\n",
       "      <th>ZN</th>\n",
       "      <th>INDUS</th>\n",
       "      <th>CHAS</th>\n",
       "      <th>NOX</th>\n",
       "      <th>RM</th>\n",
       "      <th>AGE</th>\n",
       "      <th>DIS</th>\n",
       "      <th>RAD</th>\n",
       "      <th>TAX</th>\n",
       "      <th>PTRATIO</th>\n",
       "      <th>B</th>\n",
       "      <th>LSTAT</th>\n",
       "      <th>MEDV</th>\n",
       "    </tr>\n",
       "  </thead>\n",
       "  <tbody>\n",
       "    <tr>\n",
       "      <th>0</th>\n",
       "      <td>0.00632</td>\n",
       "      <td>18.0</td>\n",
       "      <td>2.31</td>\n",
       "      <td>0</td>\n",
       "      <td>0.538</td>\n",
       "      <td>6.575</td>\n",
       "      <td>65.2</td>\n",
       "      <td>4.0900</td>\n",
       "      <td>1</td>\n",
       "      <td>296.0</td>\n",
       "      <td>15.3</td>\n",
       "      <td>396.90</td>\n",
       "      <td>4.98</td>\n",
       "      <td>24.0</td>\n",
       "    </tr>\n",
       "    <tr>\n",
       "      <th>1</th>\n",
       "      <td>0.02731</td>\n",
       "      <td>0.0</td>\n",
       "      <td>7.07</td>\n",
       "      <td>0</td>\n",
       "      <td>0.469</td>\n",
       "      <td>6.421</td>\n",
       "      <td>78.9</td>\n",
       "      <td>4.9671</td>\n",
       "      <td>2</td>\n",
       "      <td>242.0</td>\n",
       "      <td>17.8</td>\n",
       "      <td>396.90</td>\n",
       "      <td>9.14</td>\n",
       "      <td>21.6</td>\n",
       "    </tr>\n",
       "    <tr>\n",
       "      <th>2</th>\n",
       "      <td>0.02729</td>\n",
       "      <td>0.0</td>\n",
       "      <td>7.07</td>\n",
       "      <td>0</td>\n",
       "      <td>0.469</td>\n",
       "      <td>7.185</td>\n",
       "      <td>61.1</td>\n",
       "      <td>4.9671</td>\n",
       "      <td>2</td>\n",
       "      <td>242.0</td>\n",
       "      <td>17.8</td>\n",
       "      <td>392.83</td>\n",
       "      <td>4.03</td>\n",
       "      <td>34.7</td>\n",
       "    </tr>\n",
       "    <tr>\n",
       "      <th>3</th>\n",
       "      <td>0.03237</td>\n",
       "      <td>0.0</td>\n",
       "      <td>2.18</td>\n",
       "      <td>0</td>\n",
       "      <td>0.458</td>\n",
       "      <td>6.998</td>\n",
       "      <td>45.8</td>\n",
       "      <td>6.0622</td>\n",
       "      <td>3</td>\n",
       "      <td>222.0</td>\n",
       "      <td>18.7</td>\n",
       "      <td>394.63</td>\n",
       "      <td>2.94</td>\n",
       "      <td>33.4</td>\n",
       "    </tr>\n",
       "    <tr>\n",
       "      <th>4</th>\n",
       "      <td>0.06905</td>\n",
       "      <td>0.0</td>\n",
       "      <td>2.18</td>\n",
       "      <td>0</td>\n",
       "      <td>0.458</td>\n",
       "      <td>7.147</td>\n",
       "      <td>54.2</td>\n",
       "      <td>6.0622</td>\n",
       "      <td>3</td>\n",
       "      <td>222.0</td>\n",
       "      <td>18.7</td>\n",
       "      <td>396.90</td>\n",
       "      <td>5.33</td>\n",
       "      <td>36.2</td>\n",
       "    </tr>\n",
       "  </tbody>\n",
       "</table>\n",
       "</div>"
      ],
      "text/plain": [
       "      CRIM    ZN  INDUS  CHAS    NOX     RM   AGE     DIS  RAD    TAX  \\\n",
       "0  0.00632  18.0   2.31     0  0.538  6.575  65.2  4.0900    1  296.0   \n",
       "1  0.02731   0.0   7.07     0  0.469  6.421  78.9  4.9671    2  242.0   \n",
       "2  0.02729   0.0   7.07     0  0.469  7.185  61.1  4.9671    2  242.0   \n",
       "3  0.03237   0.0   2.18     0  0.458  6.998  45.8  6.0622    3  222.0   \n",
       "4  0.06905   0.0   2.18     0  0.458  7.147  54.2  6.0622    3  222.0   \n",
       "\n",
       "   PTRATIO       B  LSTAT  MEDV  \n",
       "0     15.3  396.90   4.98  24.0  \n",
       "1     17.8  396.90   9.14  21.6  \n",
       "2     17.8  392.83   4.03  34.7  \n",
       "3     18.7  394.63   2.94  33.4  \n",
       "4     18.7  396.90   5.33  36.2  "
      ]
     },
     "execution_count": 2,
     "metadata": {},
     "output_type": "execute_result"
    }
   ],
   "source": [
    "import pandas as pd\n",
    "\n",
    "# Load the dataset\n",
    "df = pd.read_csv(\"Boston_Housing_Dataset.csv\")  # Ensure the correct file path\n",
    "\n",
    "# Display the first few rows\n",
    "df.head()\n"
   ]
  },
  {
   "cell_type": "markdown",
   "id": "d87f88c3-0538-4510-8267-e193c00f13a3",
   "metadata": {},
   "source": [
    "# Define Features (X) and Target Variable (y)"
   ]
  },
  {
   "cell_type": "code",
   "execution_count": 4,
   "id": "ed80f31b-c97f-4fa1-847e-e7aae7bae86d",
   "metadata": {},
   "outputs": [],
   "source": [
    "# Define X (independent variables) and y (dependent variable)\n",
    "X = df.drop(columns=[\"MEDV\"])  # All features except target\n",
    "y = df[\"MEDV\"]  # Target variable\n",
    "from sklearn.model_selection import train_test_split\n",
    "\n",
    "\n"
   ]
  },
  {
   "cell_type": "markdown",
   "id": "a7ba90cc-28d1-43ca-8e08-b7abaec9b4c6",
   "metadata": {},
   "source": [
    "# Split the Dataset"
   ]
  },
  {
   "cell_type": "code",
   "execution_count": null,
   "id": "d1099e5c-7561-4bb2-b3b9-f8ee20032f25",
   "metadata": {},
   "outputs": [],
   "source": [
    "# Split data (80% training, 20% testing)\n",
    "X_train, X_test, y_train, y_test = train_test_split(X, y, test_size=0.2, random_state=42)"
   ]
  },
  {
   "cell_type": "markdown",
   "id": "1d7d9bf8-010f-4225-a6f6-acdf02cb9e6c",
   "metadata": {},
   "source": [
    "# Apply Multiple Linear Regression Without Elimination"
   ]
  },
  {
   "cell_type": "code",
   "execution_count": 5,
   "id": "127ed6c7-170d-4816-8048-97cfdd7b446e",
   "metadata": {},
   "outputs": [
    {
     "name": "stdout",
     "output_type": "stream",
     "text": [
      "MSE (All Variables): 24.291119474973538\n",
      "R² Score (All Variables): 0.6687594935356317\n"
     ]
    }
   ],
   "source": [
    "from sklearn.linear_model import LinearRegression\n",
    "from sklearn.metrics import mean_squared_error, r2_score\n",
    "\n",
    "# Train the model with all features\n",
    "model_all = LinearRegression()\n",
    "model_all.fit(X_train, y_train)\n",
    "\n",
    "# Predictions\n",
    "y_pred_all = model_all.predict(X_test)\n",
    "\n",
    "# Evaluate\n",
    "mse_all = mean_squared_error(y_test, y_pred_all)\n",
    "r2_all = r2_score(y_test, y_pred_all)\n",
    "\n",
    "print(\"MSE (All Variables):\", mse_all)\n",
    "print(\"R² Score (All Variables):\", r2_all)\n",
    "\n",
    "# Store coefficients for comparison later\n",
    "coeff_all = model_all.coef_\n"
   ]
  },
  {
   "cell_type": "markdown",
   "id": "a50a9e00-1939-492d-9df3-8a9d74c897e6",
   "metadata": {},
   "source": [
    "# Backward Elimination"
   ]
  },
  {
   "cell_type": "code",
   "execution_count": 6,
   "id": "6bb64ff1-5347-4ae4-9fa3-9a8e23dadff8",
   "metadata": {
    "scrolled": true
   },
   "outputs": [
    {
     "name": "stdout",
     "output_type": "stream",
     "text": [
      "                            OLS Regression Results                            \n",
      "==============================================================================\n",
      "Dep. Variable:                   MEDV   R-squared:                       0.751\n",
      "Model:                            OLS   Adj. R-squared:                  0.743\n",
      "Method:                 Least Squares   F-statistic:                     90.43\n",
      "Date:                Mon, 24 Feb 2025   Prob (F-statistic):          6.21e-109\n",
      "Time:                        18:32:14   Log-Likelihood:                -1194.3\n",
      "No. Observations:                 404   AIC:                             2417.\n",
      "Df Residuals:                     390   BIC:                             2473.\n",
      "Df Model:                          13                                         \n",
      "Covariance Type:            nonrobust                                         \n",
      "==============================================================================\n",
      "                 coef    std err          t      P>|t|      [0.025      0.975]\n",
      "------------------------------------------------------------------------------\n",
      "const         30.2468      5.677      5.328      0.000      19.086      41.408\n",
      "CRIM          -0.1131      0.035     -3.250      0.001      -0.181      -0.045\n",
      "ZN             0.0301      0.016      1.882      0.061      -0.001       0.062\n",
      "INDUS          0.0404      0.067      0.599      0.549      -0.092       0.173\n",
      "CHAS           2.7844      0.956      2.914      0.004       0.905       4.663\n",
      "NOX          -17.2026      4.236     -4.061      0.000     -25.531      -8.874\n",
      "RM             4.4388      0.464      9.567      0.000       3.527       5.351\n",
      "AGE           -0.0063      0.015     -0.432      0.666      -0.035       0.022\n",
      "DIS           -1.4479      0.226     -6.408      0.000      -1.892      -1.004\n",
      "RAD            0.2624      0.076      3.454      0.001       0.113       0.412\n",
      "TAX           -0.0106      0.004     -2.508      0.013      -0.019      -0.002\n",
      "PTRATIO       -0.9155      0.144     -6.357      0.000      -1.199      -0.632\n",
      "B              0.0124      0.003      4.166      0.000       0.007       0.018\n",
      "LSTAT         -0.5086      0.056     -9.133      0.000      -0.618      -0.399\n",
      "==============================================================================\n",
      "Omnibus:                      133.052   Durbin-Watson:                   2.114\n",
      "Prob(Omnibus):                  0.000   Jarque-Bera (JB):              579.817\n",
      "Skew:                           1.379   Prob(JB):                    1.24e-126\n",
      "Kurtosis:                       8.181   Cond. No.                     1.49e+04\n",
      "==============================================================================\n",
      "\n",
      "Notes:\n",
      "[1] Standard Errors assume that the covariance matrix of the errors is correctly specified.\n",
      "[2] The condition number is large, 1.49e+04. This might indicate that there are\n",
      "strong multicollinearity or other numerical problems.\n",
      "MSE (Backward Elimination): 25.5002125981767\n",
      "R² Score (Backward Elimination): 0.6522719611720029\n"
     ]
    }
   ],
   "source": [
    "import statsmodels.api as sm\n",
    "\n",
    "# Add intercept for statsmodels\n",
    "X_train_sm = sm.add_constant(X_train)\n",
    "X_test_sm = sm.add_constant(X_test)\n",
    "\n",
    "# Fit model\n",
    "model_be = sm.OLS(y_train, X_train_sm).fit()\n",
    "print(model_be.summary())\n",
    "\n",
    "# Identify important features (p-value threshold < 0.05)\n",
    "selected_features_be = X_train.columns[model_be.pvalues[1:] < 0.05].tolist()\n",
    "\n",
    "# Train a new model with selected features\n",
    "X_train_be = X_train[selected_features_be]\n",
    "X_test_be = X_test[selected_features_be]\n",
    "\n",
    "model_be_final = LinearRegression()\n",
    "model_be_final.fit(X_train_be, y_train)\n",
    "y_pred_be = model_be_final.predict(X_test_be)\n",
    "\n",
    "# Evaluate\n",
    "mse_be = mean_squared_error(y_test, y_pred_be)\n",
    "r2_be = r2_score(y_test, y_pred_be)\n",
    "\n",
    "print(\"MSE (Backward Elimination):\", mse_be)\n",
    "print(\"R² Score (Backward Elimination):\", r2_be)\n"
   ]
  },
  {
   "cell_type": "markdown",
   "id": "932ebbd4-da0c-4f90-96ed-b986e7006eb6",
   "metadata": {},
   "source": [
    "# Forward Selection"
   ]
  },
  {
   "cell_type": "code",
   "execution_count": 7,
   "id": "18a2c04e-d0d9-45f2-93f1-65950a2e5ea6",
   "metadata": {},
   "outputs": [
    {
     "name": "stdout",
     "output_type": "stream",
     "text": [
      "MSE (Forward Selection): 27.342273199895953\n",
      "R² Score (Forward Selection): 0.6271531070459022\n"
     ]
    }
   ],
   "source": [
    "from sklearn.feature_selection import SequentialFeatureSelector\n",
    "\n",
    "# Forward Selection using Linear Regression\n",
    "model_forward = LinearRegression()\n",
    "sfs_forward = SequentialFeatureSelector(model_forward, direction=\"forward\", n_features_to_select=\"auto\")\n",
    "sfs_forward.fit(X_train, y_train)\n",
    "\n",
    "# Get selected features\n",
    "selected_features_fw = X_train.columns[sfs_forward.get_support()].tolist()\n",
    "\n",
    "# Train model with selected features\n",
    "X_train_fw = X_train[selected_features_fw]\n",
    "X_test_fw = X_test[selected_features_fw]\n",
    "\n",
    "model_fw_final = LinearRegression()\n",
    "model_fw_final.fit(X_train_fw, y_train)\n",
    "y_pred_fw = model_fw_final.predict(X_test_fw)\n",
    "\n",
    "# Evaluate\n",
    "mse_fw = mean_squared_error(y_test, y_pred_fw)\n",
    "r2_fw = r2_score(y_test, y_pred_fw)\n",
    "\n",
    "print(\"MSE (Forward Selection):\", mse_fw)\n",
    "print(\"R² Score (Forward Selection):\", r2_fw)\n",
    "\n"
   ]
  },
  {
   "cell_type": "code",
   "execution_count": 9,
   "id": "2baaf030-ffd3-4d67-a5cd-75d7187cd9b4",
   "metadata": {},
   "outputs": [
    {
     "name": "stdout",
     "output_type": "stream",
     "text": [
      "Collecting mlxtend\n",
      "  Downloading mlxtend-0.23.4-py3-none-any.whl (1.4 MB)\n",
      "     ---------------------------------------- 1.4/1.4 MB 1.7 MB/s eta 0:00:00\n",
      "Requirement already satisfied: scipy>=1.2.1 in c:\\users\\lenovo\\appdata\\local\\programs\\python\\python311\\lib\\site-packages (from mlxtend) (1.14.1)\n",
      "Requirement already satisfied: numpy>=1.16.2 in c:\\users\\lenovo\\appdata\\local\\programs\\python\\python311\\lib\\site-packages (from mlxtend) (2.1.2)\n",
      "Requirement already satisfied: pandas>=0.24.2 in c:\\users\\lenovo\\appdata\\local\\programs\\python\\python311\\lib\\site-packages (from mlxtend) (2.2.3)\n",
      "Requirement already satisfied: scikit-learn>=1.3.1 in c:\\users\\lenovo\\appdata\\local\\programs\\python\\python311\\lib\\site-packages (from mlxtend) (1.6.0)\n",
      "Requirement already satisfied: matplotlib>=3.0.0 in c:\\users\\lenovo\\appdata\\local\\programs\\python\\python311\\lib\\site-packages (from mlxtend) (3.9.2)\n",
      "Requirement already satisfied: joblib>=0.13.2 in c:\\users\\lenovo\\appdata\\local\\programs\\python\\python311\\lib\\site-packages (from mlxtend) (1.4.2)\n",
      "Requirement already satisfied: contourpy>=1.0.1 in c:\\users\\lenovo\\appdata\\local\\programs\\python\\python311\\lib\\site-packages (from matplotlib>=3.0.0->mlxtend) (1.3.0)\n",
      "Requirement already satisfied: cycler>=0.10 in c:\\users\\lenovo\\appdata\\local\\programs\\python\\python311\\lib\\site-packages (from matplotlib>=3.0.0->mlxtend) (0.12.1)\n",
      "Requirement already satisfied: fonttools>=4.22.0 in c:\\users\\lenovo\\appdata\\local\\programs\\python\\python311\\lib\\site-packages (from matplotlib>=3.0.0->mlxtend) (4.54.1)\n",
      "Requirement already satisfied: kiwisolver>=1.3.1 in c:\\users\\lenovo\\appdata\\local\\programs\\python\\python311\\lib\\site-packages (from matplotlib>=3.0.0->mlxtend) (1.4.7)\n",
      "Requirement already satisfied: packaging>=20.0 in c:\\users\\lenovo\\appdata\\local\\programs\\python\\python311\\lib\\site-packages (from matplotlib>=3.0.0->mlxtend) (24.1)\n",
      "Requirement already satisfied: pillow>=8 in c:\\users\\lenovo\\appdata\\local\\programs\\python\\python311\\lib\\site-packages (from matplotlib>=3.0.0->mlxtend) (10.4.0)\n",
      "Requirement already satisfied: pyparsing>=2.3.1 in c:\\users\\lenovo\\appdata\\local\\programs\\python\\python311\\lib\\site-packages (from matplotlib>=3.0.0->mlxtend) (3.1.4)\n",
      "Requirement already satisfied: python-dateutil>=2.7 in c:\\users\\lenovo\\appdata\\local\\programs\\python\\python311\\lib\\site-packages (from matplotlib>=3.0.0->mlxtend) (2.9.0.post0)\n",
      "Requirement already satisfied: pytz>=2020.1 in c:\\users\\lenovo\\appdata\\local\\programs\\python\\python311\\lib\\site-packages (from pandas>=0.24.2->mlxtend) (2024.2)\n",
      "Requirement already satisfied: tzdata>=2022.7 in c:\\users\\lenovo\\appdata\\local\\programs\\python\\python311\\lib\\site-packages (from pandas>=0.24.2->mlxtend) (2024.2)\n",
      "Requirement already satisfied: threadpoolctl>=3.1.0 in c:\\users\\lenovo\\appdata\\local\\programs\\python\\python311\\lib\\site-packages (from scikit-learn>=1.3.1->mlxtend) (3.5.0)\n",
      "Requirement already satisfied: six>=1.5 in c:\\users\\lenovo\\appdata\\local\\programs\\python\\python311\\lib\\site-packages (from python-dateutil>=2.7->matplotlib>=3.0.0->mlxtend) (1.16.0)\n",
      "Installing collected packages: mlxtend\n",
      "Successfully installed mlxtend-0.23.4\n"
     ]
    },
    {
     "name": "stderr",
     "output_type": "stream",
     "text": [
      "\n",
      "[notice] A new release of pip available: 22.3.1 -> 25.0.1\n",
      "[notice] To update, run: python.exe -m pip install --upgrade pip\n"
     ]
    }
   ],
   "source": [
    "!pip install mlxtend\n",
    "\n"
   ]
  },
  {
   "cell_type": "markdown",
   "id": "fc836d35-4130-401d-b61b-0769921ef672",
   "metadata": {},
   "source": [
    "#  Combined Method (Stepwise Regression)"
   ]
  },
  {
   "cell_type": "code",
   "execution_count": 10,
   "id": "a83432e6-cde5-4933-9c8c-be655849c953",
   "metadata": {},
   "outputs": [
    {
     "name": "stdout",
     "output_type": "stream",
     "text": [
      "Selected Features (Stepwise): ['LSTAT']\n",
      "MSE (Stepwise): 33.51954917268489\n",
      "R² Score (Stepwise): 0.5429180422970384\n"
     ]
    }
   ],
   "source": [
    "from mlxtend.feature_selection import SequentialFeatureSelector as SFS\n",
    "from sklearn.linear_model import LinearRegression\n",
    "\n",
    "# Initialize Linear Regression model\n",
    "model = LinearRegression()\n",
    "\n",
    "# Perform Stepwise Selection (combining forward and backward)\n",
    "sfs_combined = SFS(model, \n",
    "                   forward=True, \n",
    "                   floating=True,  # Allows dynamic feature addition/removal\n",
    "                   scoring='r2',  # Optimize R² score\n",
    "                   cv=5)  # Cross-validation for stability\n",
    "\n",
    "# Fit to training data\n",
    "sfs_combined.fit(X_train, y_train)\n",
    "\n",
    "# Get selected features\n",
    "selected_features_combined = list(sfs_combined.k_feature_names_)\n",
    "\n",
    "# Train model with selected features\n",
    "X_train_combined = X_train[selected_features_combined]\n",
    "X_test_combined = X_test[selected_features_combined]\n",
    "\n",
    "model_combined_final = LinearRegression()\n",
    "model_combined_final.fit(X_train_combined, y_train)\n",
    "y_pred_combined = model_combined_final.predict(X_test_combined)\n",
    "\n",
    "# Evaluate performance\n",
    "from sklearn.metrics import mean_squared_error, r2_score\n",
    "\n",
    "mse_combined = mean_squared_error(y_test, y_pred_combined)\n",
    "r2_combined = r2_score(y_test, y_pred_combined)\n",
    "\n",
    "print(\"Selected Features (Stepwise):\", selected_features_combined)\n",
    "print(\"MSE (Stepwise):\", mse_combined)\n",
    "print(\"R² Score (Stepwise):\", r2_combined)\n"
   ]
  },
  {
   "cell_type": "code",
   "execution_count": 18,
   "id": "1492067b-64c3-42ca-a6eb-9b0e5732e982",
   "metadata": {},
   "outputs": [
    {
     "ename": "NameError",
     "evalue": "name 'forward_selection' is not defined",
     "output_type": "error",
     "traceback": [
      "\u001b[1;31m---------------------------------------------------------------------------\u001b[0m",
      "\u001b[1;31mNameError\u001b[0m                                 Traceback (most recent call last)",
      "Cell \u001b[1;32mIn[18], line 2\u001b[0m\n\u001b[0;32m      1\u001b[0m \u001b[38;5;66;03m# Forward Selection Step\u001b[39;00m\n\u001b[1;32m----> 2\u001b[0m X_train_combined, model_combined \u001b[38;5;241m=\u001b[39m \u001b[43mforward_selection\u001b[49m(X_train, y_train)\n\u001b[0;32m      4\u001b[0m \u001b[38;5;66;03m# Backward Elimination on selected features\u001b[39;00m\n\u001b[0;32m      5\u001b[0m X_train_combined, model_combined \u001b[38;5;241m=\u001b[39m backward_elimination(X_train_combined, y_train)\n",
      "\u001b[1;31mNameError\u001b[0m: name 'forward_selection' is not defined"
     ]
    }
   ],
   "source": [
    "# Forward Selection Step\n",
    "X_train_combined, model_combined = forward_selection(X_train, y_train)\n",
    "\n",
    "# Backward Elimination on selected features\n",
    "X_train_combined, model_combined = backward_elimination(X_train_combined, y_train)\n",
    "\n",
    "# Test on reduced feature set\n",
    "X_test_combined = sm.add_constant(X_test)[X_train_combined.columns]\n",
    "y_pred_combined = model_combined.predict(X_test_combined)\n",
    "\n",
    "mse_combined = mean_squared_error(y_test, y_pred_combined)\n",
    "# Evaluate model\n",
    "r2_combined = r2_score(y_test, y_pred_combined)\n",
    "print(f\"R² Score (Combined Method): {r2_combined:.4f}\")\n",
    "print(model_combined.summary())\n"
   ]
  },
  {
   "cell_type": "markdown",
   "id": "4190fecd-5491-49ea-962c-d57df01dc57f",
   "metadata": {},
   "source": [
    "# Compare Results"
   ]
  },
  {
   "cell_type": "code",
   "execution_count": 11,
   "id": "c3c7770b-b554-40fa-bab7-0c340f900caf",
   "metadata": {},
   "outputs": [
    {
     "name": "stdout",
     "output_type": "stream",
     "text": [
      "                 Method        MSE  R² Score\n",
      "0         All Variables  24.291119  0.668759\n",
      "1  Backward Elimination  25.500213  0.652272\n",
      "2     Forward Selection  27.342273  0.627153\n",
      "3              Stepwise  33.519549  0.542918\n"
     ]
    }
   ],
   "source": [
    "import numpy as np\n",
    "\n",
    "# Store results\n",
    "results = pd.DataFrame({\n",
    "    \"Method\": [\"All Variables\", \"Backward Elimination\", \"Forward Selection\", \"Stepwise\"],\n",
    "    \"MSE\": [mse_all, mse_be, mse_fw, mse_combined],\n",
    "    \"R² Score\": [r2_all, r2_be, r2_fw, r2_combined]\n",
    "})\n",
    "\n",
    "print(results)\n"
   ]
  },
  {
   "cell_type": "markdown",
   "id": "98f6eaba-d815-4026-827f-9b6d704779e5",
   "metadata": {},
   "source": [
    "#  Compare Coefficients"
   ]
  },
  {
   "cell_type": "code",
   "execution_count": 13,
   "id": "37ada2f8-f46f-4b61-a210-1045ff9b3b53",
   "metadata": {},
   "outputs": [
    {
     "name": "stdout",
     "output_type": "stream",
     "text": [
      "         Feature  All Variables  Backward Elimination  Forward Selection  \\\n",
      "CRIM        CRIM      -0.113056             -0.108568           0.000000   \n",
      "ZN            ZN       0.030110              0.000000           0.000000   \n",
      "INDUS      INDUS       0.040381              0.000000           0.000000   \n",
      "CHAS        CHAS       2.784438              2.875249           0.000000   \n",
      "NOX          NOX     -17.202633            -17.953929         -15.117126   \n",
      "RM            RM       4.438835              4.463746           4.799560   \n",
      "AGE          AGE      -0.006296              0.000000           0.000000   \n",
      "DIS          DIS      -1.447865             -1.234960          -1.200277   \n",
      "RAD          RAD       0.262430              0.238116           0.000000   \n",
      "TAX          TAX      -0.010647             -0.007795           0.000000   \n",
      "PTRATIO  PTRATIO      -0.915456             -1.012242          -0.941397   \n",
      "B              B       0.012351              0.012274           0.013169   \n",
      "LSTAT      LSTAT      -0.508571             -0.510235          -0.538538   \n",
      "\n",
      "         Stepwise  \n",
      "CRIM     0.000000  \n",
      "ZN       0.000000  \n",
      "INDUS    0.000000  \n",
      "CHAS     0.000000  \n",
      "NOX      0.000000  \n",
      "RM       0.000000  \n",
      "AGE      0.000000  \n",
      "DIS      0.000000  \n",
      "RAD      0.000000  \n",
      "TAX      0.000000  \n",
      "PTRATIO  0.000000  \n",
      "B        0.000000  \n",
      "LSTAT   -0.966531  \n"
     ]
    }
   ],
   "source": [
    "# Compare coefficients\n",
    "# Initialize a dictionary for coefficients comparison\n",
    "coefficients_dict = {\"Feature\": X.columns}\n",
    "\n",
    "# Store coefficients for each method, ensuring alignment with selected features\n",
    "coefficients_dict[\"All Variables\"] = model_all.coef_\n",
    "\n",
    "# Add coefficients for Backward Elimination\n",
    "if len(selected_features_be) > 0:\n",
    "    coeff_be = pd.Series(model_be_final.coef_, index=selected_features_be)\n",
    "    coefficients_dict[\"Backward Elimination\"] = coeff_be.reindex(X.columns, fill_value=0)\n",
    "else:\n",
    "    coefficients_dict[\"Backward Elimination\"] = None\n",
    "\n",
    "# Add coefficients for Forward Selection\n",
    "if len(selected_features_fw) > 0:\n",
    "    coeff_fw = pd.Series(model_fw_final.coef_, index=selected_features_fw)\n",
    "    coefficients_dict[\"Forward Selection\"] = coeff_fw.reindex(X.columns, fill_value=0)\n",
    "else:\n",
    "    coefficients_dict[\"Forward Selection\"] = None\n",
    "\n",
    "# Add coefficients for Stepwise Selection\n",
    "if len(selected_features_combined) > 0:\n",
    "    coeff_combined = pd.Series(model_combined_final.coef_, index=selected_features_combined)\n",
    "    coefficients_dict[\"Stepwise\"] = coeff_combined.reindex(X.columns, fill_value=0)\n",
    "else:\n",
    "    coefficients_dict[\"Stepwise\"] = None\n",
    "\n",
    "# Convert dictionary to DataFrame\n",
    "coefficients_df = pd.DataFrame(coefficients_dict)\n",
    "\n",
    "# Display\n",
    "print(coefficients_df)\n"
   ]
  },
  {
   "cell_type": "code",
   "execution_count": null,
   "id": "851bf914-674d-4a5e-be4c-027b28d23aa9",
   "metadata": {},
   "outputs": [],
   "source": []
  }
 ],
 "metadata": {
  "kernelspec": {
   "display_name": "Python 3 (ipykernel)",
   "language": "python",
   "name": "python3"
  },
  "language_info": {
   "codemirror_mode": {
    "name": "ipython",
    "version": 3
   },
   "file_extension": ".py",
   "mimetype": "text/x-python",
   "name": "python",
   "nbconvert_exporter": "python",
   "pygments_lexer": "ipython3",
   "version": "3.11.1"
  }
 },
 "nbformat": 4,
 "nbformat_minor": 5
}
