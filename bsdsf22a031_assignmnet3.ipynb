{
 "cells": [
  {
   "cell_type": "markdown",
   "id": "0861373a-fea8-4908-b5f9-8d200624323b",
   "metadata": {},
   "source": [
    "# Load the dataset "
   ]
  },
  {
   "cell_type": "code",
   "execution_count": 1,
   "id": "de71ab6d-9eba-4a9e-9aba-556ab29e1a00",
   "metadata": {},
   "outputs": [],
   "source": [
    "import numpy as np\n",
    "import pandas as pd\n",
    "import statsmodels.api as sm\n",
    "from sklearn.model_selection import train_test_split\n",
    "from sklearn.linear_model import LinearRegression\n",
    "from sklearn.metrics import r2_score\n",
    "\n",
    "# Load dataset from CSV\n",
    "df = pd.read_csv(\"Boston_Housing_Dataset.csv\")\n"
   ]
  },
  {
   "cell_type": "code",
   "execution_count": 42,
   "id": "3cfd4b9d-b36b-4f21-9fe1-a3a33eb91800",
   "metadata": {},
   "outputs": [
    {
     "name": "stdout",
     "output_type": "stream",
     "text": [
      "Requirement already satisfied: statsmodels in c:\\users\\lenovo\\appdata\\local\\programs\\python\\python311\\lib\\site-packages (0.14.4)\n",
      "Requirement already satisfied: numpy<3,>=1.22.3 in c:\\users\\lenovo\\appdata\\local\\programs\\python\\python311\\lib\\site-packages (from statsmodels) (2.1.2)\n",
      "Requirement already satisfied: scipy!=1.9.2,>=1.8 in c:\\users\\lenovo\\appdata\\local\\programs\\python\\python311\\lib\\site-packages (from statsmodels) (1.14.1)\n",
      "Requirement already satisfied: pandas!=2.1.0,>=1.4 in c:\\users\\lenovo\\appdata\\local\\programs\\python\\python311\\lib\\site-packages (from statsmodels) (2.2.3)\n",
      "Requirement already satisfied: patsy>=0.5.6 in c:\\users\\lenovo\\appdata\\local\\programs\\python\\python311\\lib\\site-packages (from statsmodels) (1.0.1)\n",
      "Requirement already satisfied: packaging>=21.3 in c:\\users\\lenovo\\appdata\\local\\programs\\python\\python311\\lib\\site-packages (from statsmodels) (24.1)\n",
      "Requirement already satisfied: python-dateutil>=2.8.2 in c:\\users\\lenovo\\appdata\\local\\programs\\python\\python311\\lib\\site-packages (from pandas!=2.1.0,>=1.4->statsmodels) (2.9.0.post0)\n",
      "Requirement already satisfied: pytz>=2020.1 in c:\\users\\lenovo\\appdata\\local\\programs\\python\\python311\\lib\\site-packages (from pandas!=2.1.0,>=1.4->statsmodels) (2024.2)\n",
      "Requirement already satisfied: tzdata>=2022.7 in c:\\users\\lenovo\\appdata\\local\\programs\\python\\python311\\lib\\site-packages (from pandas!=2.1.0,>=1.4->statsmodels) (2024.2)\n",
      "Requirement already satisfied: six>=1.5 in c:\\users\\lenovo\\appdata\\local\\programs\\python\\python311\\lib\\site-packages (from python-dateutil>=2.8.2->pandas!=2.1.0,>=1.4->statsmodels) (1.16.0)\n"
     ]
    },
    {
     "name": "stderr",
     "output_type": "stream",
     "text": [
      "\n",
      "[notice] A new release of pip available: 22.3.1 -> 25.0.1\n",
      "[notice] To update, run: python.exe -m pip install --upgrade pip\n"
     ]
    }
   ],
   "source": [
    "!pip install statsmodels\n"
   ]
  },
  {
   "cell_type": "code",
   "execution_count": 2,
   "id": "207618df-d611-4d1d-9ba0-77df6c3b5b64",
   "metadata": {},
   "outputs": [
    {
     "name": "stdout",
     "output_type": "stream",
     "text": [
      "Boston Housing Dataset\n"
     ]
    },
    {
     "data": {
      "text/html": [
       "<div>\n",
       "<style scoped>\n",
       "    .dataframe tbody tr th:only-of-type {\n",
       "        vertical-align: middle;\n",
       "    }\n",
       "\n",
       "    .dataframe tbody tr th {\n",
       "        vertical-align: top;\n",
       "    }\n",
       "\n",
       "    .dataframe thead th {\n",
       "        text-align: right;\n",
       "    }\n",
       "</style>\n",
       "<table border=\"1\" class=\"dataframe\">\n",
       "  <thead>\n",
       "    <tr style=\"text-align: right;\">\n",
       "      <th></th>\n",
       "      <th>CRIM</th>\n",
       "      <th>ZN</th>\n",
       "      <th>INDUS</th>\n",
       "      <th>CHAS</th>\n",
       "      <th>NOX</th>\n",
       "      <th>RM</th>\n",
       "      <th>AGE</th>\n",
       "      <th>DIS</th>\n",
       "      <th>RAD</th>\n",
       "      <th>TAX</th>\n",
       "      <th>PTRATIO</th>\n",
       "      <th>B</th>\n",
       "      <th>LSTAT</th>\n",
       "      <th>MEDV</th>\n",
       "    </tr>\n",
       "  </thead>\n",
       "  <tbody>\n",
       "    <tr>\n",
       "      <th>0</th>\n",
       "      <td>0.00632</td>\n",
       "      <td>18.0</td>\n",
       "      <td>2.31</td>\n",
       "      <td>0</td>\n",
       "      <td>0.538</td>\n",
       "      <td>6.575</td>\n",
       "      <td>65.2</td>\n",
       "      <td>4.0900</td>\n",
       "      <td>1</td>\n",
       "      <td>296.0</td>\n",
       "      <td>15.3</td>\n",
       "      <td>396.90</td>\n",
       "      <td>4.98</td>\n",
       "      <td>24.0</td>\n",
       "    </tr>\n",
       "    <tr>\n",
       "      <th>1</th>\n",
       "      <td>0.02731</td>\n",
       "      <td>0.0</td>\n",
       "      <td>7.07</td>\n",
       "      <td>0</td>\n",
       "      <td>0.469</td>\n",
       "      <td>6.421</td>\n",
       "      <td>78.9</td>\n",
       "      <td>4.9671</td>\n",
       "      <td>2</td>\n",
       "      <td>242.0</td>\n",
       "      <td>17.8</td>\n",
       "      <td>396.90</td>\n",
       "      <td>9.14</td>\n",
       "      <td>21.6</td>\n",
       "    </tr>\n",
       "    <tr>\n",
       "      <th>2</th>\n",
       "      <td>0.02729</td>\n",
       "      <td>0.0</td>\n",
       "      <td>7.07</td>\n",
       "      <td>0</td>\n",
       "      <td>0.469</td>\n",
       "      <td>7.185</td>\n",
       "      <td>61.1</td>\n",
       "      <td>4.9671</td>\n",
       "      <td>2</td>\n",
       "      <td>242.0</td>\n",
       "      <td>17.8</td>\n",
       "      <td>392.83</td>\n",
       "      <td>4.03</td>\n",
       "      <td>34.7</td>\n",
       "    </tr>\n",
       "    <tr>\n",
       "      <th>3</th>\n",
       "      <td>0.03237</td>\n",
       "      <td>0.0</td>\n",
       "      <td>2.18</td>\n",
       "      <td>0</td>\n",
       "      <td>0.458</td>\n",
       "      <td>6.998</td>\n",
       "      <td>45.8</td>\n",
       "      <td>6.0622</td>\n",
       "      <td>3</td>\n",
       "      <td>222.0</td>\n",
       "      <td>18.7</td>\n",
       "      <td>394.63</td>\n",
       "      <td>2.94</td>\n",
       "      <td>33.4</td>\n",
       "    </tr>\n",
       "    <tr>\n",
       "      <th>4</th>\n",
       "      <td>0.06905</td>\n",
       "      <td>0.0</td>\n",
       "      <td>2.18</td>\n",
       "      <td>0</td>\n",
       "      <td>0.458</td>\n",
       "      <td>7.147</td>\n",
       "      <td>54.2</td>\n",
       "      <td>6.0622</td>\n",
       "      <td>3</td>\n",
       "      <td>222.0</td>\n",
       "      <td>18.7</td>\n",
       "      <td>396.90</td>\n",
       "      <td>5.33</td>\n",
       "      <td>36.2</td>\n",
       "    </tr>\n",
       "  </tbody>\n",
       "</table>\n",
       "</div>"
      ],
      "text/plain": [
       "      CRIM    ZN  INDUS  CHAS    NOX     RM   AGE     DIS  RAD    TAX  \\\n",
       "0  0.00632  18.0   2.31     0  0.538  6.575  65.2  4.0900    1  296.0   \n",
       "1  0.02731   0.0   7.07     0  0.469  6.421  78.9  4.9671    2  242.0   \n",
       "2  0.02729   0.0   7.07     0  0.469  7.185  61.1  4.9671    2  242.0   \n",
       "3  0.03237   0.0   2.18     0  0.458  6.998  45.8  6.0622    3  222.0   \n",
       "4  0.06905   0.0   2.18     0  0.458  7.147  54.2  6.0622    3  222.0   \n",
       "\n",
       "   PTRATIO       B  LSTAT  MEDV  \n",
       "0     15.3  396.90   4.98  24.0  \n",
       "1     17.8  396.90   9.14  21.6  \n",
       "2     17.8  392.83   4.03  34.7  \n",
       "3     18.7  394.63   2.94  33.4  \n",
       "4     18.7  396.90   5.33  36.2  "
      ]
     },
     "metadata": {},
     "output_type": "display_data"
    }
   ],
   "source": [
    "print(\"Boston Housing Dataset\")\n",
    "display(df.head())\n",
    "target_column = \"MEDV\" \n"
   ]
  },
  {
   "cell_type": "code",
   "execution_count": 16,
   "id": "7055702c-7493-4338-b70c-7d1eaae8fe6f",
   "metadata": {},
   "outputs": [
    {
     "name": "stdout",
     "output_type": "stream",
     "text": [
      "Index(['CRIM', 'ZN', 'INDUS', 'CHAS', 'NOX', 'RM', 'AGE', 'DIS', 'RAD', 'TAX',\n",
      "       'PTRATIO', 'B', 'LSTAT', 'MEDV'],\n",
      "      dtype='object')\n"
     ]
    }
   ],
   "source": [
    "print(df.columns)"
   ]
  },
  {
   "cell_type": "code",
   "execution_count": 3,
   "id": "37c34625-ef40-4a8c-b85c-c1f4e4dd3e9f",
   "metadata": {},
   "outputs": [
    {
     "name": "stdout",
     "output_type": "stream",
     "text": [
      "R² Score: 0.6688\n"
     ]
    }
   ],
   "source": [
    "# Split features and target variable\n",
    "X = df.drop(columns=[target_column])  # Features\n",
    "y = df[target_column]  # Target variable\n",
    "\n",
    "# Split dataset into training and testing sets (80% train, 20% test)\n",
    "X_train, X_test, y_train, y_test = train_test_split(X, y, test_size=0.2, random_state=42)\n",
    "\n",
    "# Train a linear regression model\n",
    "model = LinearRegression()\n",
    "model.fit(X_train, y_train)\n",
    "\n",
    "# Make predictions\n",
    "y_pred = model.predict(X_test)\n",
    "\n",
    "# Evaluate the model\n",
    "r2 = r2_score(y_test, y_pred)\n",
    "print(f\"R² Score: {r2:.4f}\")"
   ]
  },
  {
   "cell_type": "markdown",
   "id": "594f6c01-2ae5-47f3-960d-2fcf1124d8bf",
   "metadata": {},
   "source": [
    "# Method 1: No Elimination (All Variables)"
   ]
  },
  {
   "cell_type": "code",
   "execution_count": 4,
   "id": "8da1a346-3502-42b6-b9a3-38f4ed0598cb",
   "metadata": {},
   "outputs": [
    {
     "name": "stdout",
     "output_type": "stream",
     "text": [
      "MSE (All Variables): 24.291119474973538\n",
      "R² Score (All Variables): 0.6687594935356317\n"
     ]
    },
    {
     "ename": "AttributeError",
     "evalue": "'LinearRegression' object has no attribute 'summary'",
     "output_type": "error",
     "traceback": [
      "\u001b[1;31m---------------------------------------------------------------------------\u001b[0m",
      "\u001b[1;31mAttributeError\u001b[0m                            Traceback (most recent call last)",
      "Cell \u001b[1;32mIn[4], line 20\u001b[0m\n\u001b[0;32m     18\u001b[0m \u001b[38;5;66;03m# Store coefficients for comparison later\u001b[39;00m\n\u001b[0;32m     19\u001b[0m coeff_all \u001b[38;5;241m=\u001b[39m model_all\u001b[38;5;241m.\u001b[39mcoef_\n\u001b[1;32m---> 20\u001b[0m \u001b[38;5;28mprint\u001b[39m(\u001b[43mmodel_all\u001b[49m\u001b[38;5;241;43m.\u001b[39;49m\u001b[43msummary\u001b[49m())\n",
      "\u001b[1;31mAttributeError\u001b[0m: 'LinearRegression' object has no attribute 'summary'"
     ]
    }
   ],
   "source": [
    "from sklearn.linear_model import LinearRegression\n",
    "from sklearn.metrics import mean_squared_error, r2_score\n",
    "\n",
    "# Train the model with all features\n",
    "model_all = LinearRegression()\n",
    "model_all.fit(X_train, y_train)\n",
    "\n",
    "# Predictions\n",
    "y_pred_all = model_all.predict(X_test)\n",
    "\n",
    "# Evaluate\n",
    "mse_all = mean_squared_error(y_test, y_pred_all)\n",
    "r2_all = r2_score(y_test, y_pred_all)\n",
    "\n",
    "print(\"MSE (All Variables):\", mse_all)\n",
    "print(\"R² Score (All Variables):\", r2_all)\n",
    "\n",
    "# Store coefficients for comparison later\n",
    "coeff_all = model_all.coef_\n",
    "print(model_all.summary())\n"
   ]
  },
  {
   "cell_type": "markdown",
   "id": "76c1696e-5d49-4e0d-8248-a7b38e79d6b4",
   "metadata": {},
   "source": [
    "#  Method 2: Backward Elimination"
   ]
  },
  {
   "cell_type": "code",
   "execution_count": 9,
   "id": "4071b286-119f-4449-a0b9-6c9cff3de338",
   "metadata": {},
   "outputs": [
    {
     "name": "stdout",
     "output_type": "stream",
     "text": [
      "Removing: INDUS (p=0.6302)\n",
      "Removing: AGE (p=0.4699)\n",
      "Removing: NOX (p=0.1203)\n",
      "R² Score (Backward Elimination): 0.6126\n",
      "mse  28.409176612961275\n",
      "                                 OLS Regression Results                                \n",
      "=======================================================================================\n",
      "Dep. Variable:                   MEDV   R-squared (uncentered):                   0.961\n",
      "Model:                            OLS   Adj. R-squared (uncentered):              0.960\n",
      "Method:                 Least Squares   F-statistic:                              981.7\n",
      "Date:                Tue, 25 Feb 2025   Prob (F-statistic):                   1.91e-271\n",
      "Time:                        09:17:37   Log-Likelihood:                         -1210.1\n",
      "No. Observations:                 404   AIC:                                      2440.\n",
      "Df Residuals:                     394   BIC:                                      2480.\n",
      "Df Model:                          10                                                  \n",
      "Covariance Type:            nonrobust                                                  \n",
      "==============================================================================\n",
      "                 coef    std err          t      P>|t|      [0.025      0.975]\n",
      "------------------------------------------------------------------------------\n",
      "CRIM          -0.0994      0.036     -2.771      0.006      -0.170      -0.029\n",
      "ZN             0.0376      0.016      2.321      0.021       0.006       0.069\n",
      "CHAS           2.5476      0.973      2.619      0.009       0.635       4.460\n",
      "RM             5.8207      0.263     22.106      0.000       5.303       6.338\n",
      "DIS           -0.8878      0.189     -4.695      0.000      -1.260      -0.516\n",
      "RAD            0.1523      0.071      2.133      0.034       0.012       0.293\n",
      "TAX           -0.0093      0.004     -2.512      0.012      -0.017      -0.002\n",
      "PTRATIO       -0.4574      0.118     -3.875      0.000      -0.690      -0.225\n",
      "B              0.0162      0.003      5.548      0.000       0.010       0.022\n",
      "LSTAT         -0.4758      0.046    -10.297      0.000      -0.567      -0.385\n",
      "==============================================================================\n",
      "Omnibus:                      145.782   Durbin-Watson:                   2.053\n",
      "Prob(Omnibus):                  0.000   Jarque-Bera (JB):              897.131\n",
      "Skew:                           1.399   Prob(JB):                    1.55e-195\n",
      "Kurtosis:                       9.743   Cond. No.                     2.20e+03\n",
      "==============================================================================\n",
      "\n",
      "Notes:\n",
      "[1] R² is computed without centering (uncentered) since the model does not contain a constant.\n",
      "[2] Standard Errors assume that the covariance matrix of the errors is correctly specified.\n",
      "[3] The condition number is large, 2.2e+03. This might indicate that there are\n",
      "strong multicollinearity or other numerical problems.\n"
     ]
    }
   ],
   "source": [
    "def backward_elimination(X, y):\n",
    "    X = X.copy()  # Copy to avoid modifying original\n",
    "    while True:\n",
    "        model = sm.OLS(y, X).fit()\n",
    "        p_values = model.pvalues[1:]  # Ignore intercept\n",
    "        max_p = p_values.max()\n",
    "        if max_p > 0.05:  # If any p-value > 0.05, remove highest\n",
    "            feature_to_remove = p_values.idxmax()\n",
    "            X.drop(columns=[feature_to_remove], inplace=True)\n",
    "            print(f\"Removing: {feature_to_remove} (p={max_p:.4f})\")\n",
    "        else:\n",
    "            break\n",
    "    return X, model\n",
    "\n",
    "# Apply backward elimination\n",
    "X_train_be, model_be = backward_elimination(X_train, y_train)\n",
    "\n",
    "# Test on reduced feature set\n",
    "X_test_be = X_test[X_train_be.columns]  # Keep same columns\n",
    "y_pred_be = model_be.predict(X_test_be)\n",
    "\n",
    "# Evaluate model\n",
    "r2_be = r2_score(y_test, y_pred_be)\n",
    "mse_be = mean_squared_error(y_test, y_pred_be)\n",
    "print(f\"R² Score (Backward Elimination): {r2_be:.4f}\")\n",
    "print(\"mse \",mse_be)\n",
    "print(model_be.summary())\n"
   ]
  },
  {
   "cell_type": "markdown",
   "id": "38eac1ea-c4c6-4997-80c8-a8d8f910dac1",
   "metadata": {},
   "source": [
    "# Method 3: Forward Selection"
   ]
  },
  {
   "cell_type": "code",
   "execution_count": 12,
   "id": "00bcee5f-2192-4695-8815-e0d65cdff8bc",
   "metadata": {},
   "outputs": [
    {
     "name": "stdout",
     "output_type": "stream",
     "text": [
      "MSE (Forward Selection): 27.342273199895953\n",
      "R² Score (Forward Selection): 0.6271531070459022\n"
     ]
    }
   ],
   "source": [
    "from sklearn.feature_selection import SequentialFeatureSelector\n",
    "\n",
    "# Forward Selection using Linear Regression\n",
    "model_forward = LinearRegression()\n",
    "sfs_forward = SequentialFeatureSelector(model_forward, direction=\"forward\", n_features_to_select=\"auto\")\n",
    "sfs_forward.fit(X_train, y_train)\n",
    "\n",
    "# Get selected features\n",
    "selected_features_fw = X_train.columns[sfs_forward.get_support()].tolist()\n",
    "\n",
    "# Train model with selected features\n",
    "X_train_fw = X_train[selected_features_fw]\n",
    "X_test_fw = X_test[selected_features_fw]\n",
    "\n",
    "model_fw_final = LinearRegression()\n",
    "model_fw_final.fit(X_train_fw, y_train)\n",
    "y_pred_fw = model_fw_final.predict(X_test_fw)\n",
    "\n",
    "# Evaluate\n",
    "mse_fw = mean_squared_error(y_test, y_pred_fw)\n",
    "r2_fw = r2_score(y_test, y_pred_fw)\n",
    "\n",
    "print(\"MSE (Forward Selection):\", mse_fw)\n",
    "print(\"R² Score (Forward Selection):\", r2_fw)\n",
    "\n"
   ]
  },
  {
   "cell_type": "markdown",
   "id": "b028105d-e216-46f1-bd5d-b276151376ff",
   "metadata": {},
   "source": [
    "# Method 4: Combined (Forward + Backward)"
   ]
  },
  {
   "cell_type": "code",
   "execution_count": 13,
   "id": "d64f963d-cc81-4c18-81dc-230112c8e985",
   "metadata": {},
   "outputs": [
    {
     "ename": "NameError",
     "evalue": "name 'forward_selection' is not defined",
     "output_type": "error",
     "traceback": [
      "\u001b[1;31m---------------------------------------------------------------------------\u001b[0m",
      "\u001b[1;31mNameError\u001b[0m                                 Traceback (most recent call last)",
      "Cell \u001b[1;32mIn[13], line 2\u001b[0m\n\u001b[0;32m      1\u001b[0m \u001b[38;5;66;03m# Forward Selection Step\u001b[39;00m\n\u001b[1;32m----> 2\u001b[0m X_train_combined, model_combined \u001b[38;5;241m=\u001b[39m \u001b[43mforward_selection\u001b[49m(X_train, y_train)\n\u001b[0;32m      4\u001b[0m \u001b[38;5;66;03m# Backward Elimination on selected features\u001b[39;00m\n\u001b[0;32m      5\u001b[0m X_train_combined, model_combined \u001b[38;5;241m=\u001b[39m backward_elimination(X_train_combined, y_train)\n",
      "\u001b[1;31mNameError\u001b[0m: name 'forward_selection' is not defined"
     ]
    }
   ],
   "source": [
    "# Forward Selection Step\n",
    "X_train_combined, model_combined = forward_selection(X_train, y_train)\n",
    "\n",
    "# Backward Elimination on selected features\n",
    "X_train_combined, model_combined = backward_elimination(X_train_combined, y_train)\n",
    "\n",
    "# Test on reduced feature set\n",
    "X_test_combined = sm.add_constant(X_test)[X_train_combined.columns]\n",
    "y_pred_combined = model_combined.predict(X_test_combined)\n",
    "\n",
    "mse_combined = mean_squared_error(y_test, y_pred_combined)\n",
    "# Evaluate model\n",
    "r2_combined = r2_score(y_test, y_pred_combined)\n",
    "print(f\"R² Score (Combined Method): {r2_combined:.4f}\")\n",
    "print(\"mse\",mse_combined)\n",
    "print(model_combined.summary())\n"
   ]
  },
  {
   "cell_type": "markdown",
   "id": "bcc69597-7696-49bc-918d-c8eab3c61af2",
   "metadata": {},
   "source": [
    "# Compare Results"
   ]
  },
  {
   "cell_type": "code",
   "execution_count": 49,
   "id": "a37a4653-50a4-4230-b1df-94a750e81d8d",
   "metadata": {},
   "outputs": [
    {
     "name": "stdout",
     "output_type": "stream",
     "text": [
      "R² Scores:\n",
      " - All Variables: 0.6688\n",
      " - Backward Elimination: 0.6126\n",
      " - Forward Selection: 0.6688\n",
      " - Combined Method: 0.6523\n"
     ]
    }
   ],
   "source": [
    "print(f\"R² Scores:\")\n",
    "print(f\" - All Variables: {r2_all:.4f}\")\n",
    "print(f\" - Backward Elimination: {r2_be:.4f}\")\n",
    "print(f\" - Forward Selection: {r2_fs:.4f}\")\n",
    "print(f\" - Combined Method: {r2_combined:.4f}\")"
   ]
  },
  {
   "cell_type": "code",
   "execution_count": 51,
   "id": "74be54ac-08f1-412f-bf7e-e635ba0ae4d3",
   "metadata": {},
   "outputs": [
    {
     "name": "stdout",
     "output_type": "stream",
     "text": [
      "                 Method        MSE  R² Score\n",
      "0         All Variables  24.291119  0.668759\n",
      "1  Backward Elimination  28.409177  0.612605\n",
      "2     Forward Selection  24.291119  0.668759\n",
      "3              Stepwise  25.500213  0.652272\n"
     ]
    }
   ],
   "source": [
    "import numpy as np\n",
    "\n",
    "# Store results\n",
    "results = pd.DataFrame({\n",
    "    \"Method\": [\"All Variables\", \"Backward Elimination\", \"Forward Selection\", \"Stepwise\"],\n",
    "    \"MSE\": [mse_all, mse_be, mse_fw, mse_combined],\n",
    "    \"R² Score\": [r2_all, r2_be, r2_fs, r2_combined]\n",
    "})\n",
    "\n",
    "print(results)\n",
    "\n"
   ]
  },
  {
   "cell_type": "markdown",
   "id": "3feed10c-173e-42fc-8eed-2daba16a5b56",
   "metadata": {},
   "source": [
    "# Compare Coefficients"
   ]
  },
  {
   "cell_type": "code",
   "execution_count": 63,
   "id": "9bdf0f3d-166c-4cba-b130-2fe5a0afba91",
   "metadata": {},
   "outputs": [
    {
     "name": "stdout",
     "output_type": "stream",
     "text": [
      "\n",
      "Comparison of Coefficients:\n",
      "         All Variables  Backward Elimination  Forward Selection  \\\n",
      "CRIM         -0.113056             -0.099365          -0.113056   \n",
      "ZN            0.030110              0.037596           0.030110   \n",
      "INDUS         0.040381                   NaN           0.040381   \n",
      "CHAS          2.784438              2.547578           2.784438   \n",
      "NOX         -17.202633                   NaN         -17.202633   \n",
      "RM            4.438835              5.820738           4.438835   \n",
      "AGE          -0.006296                   NaN          -0.006296   \n",
      "DIS          -1.447865             -0.887773          -1.447865   \n",
      "RAD           0.262430              0.152307           0.262430   \n",
      "TAX          -0.010647             -0.009323          -0.010647   \n",
      "PTRATIO      -0.915456             -0.457440          -0.915456   \n",
      "B             0.012351              0.016170           0.012351   \n",
      "LSTAT        -0.508571             -0.475766          -0.508571   \n",
      "\n",
      "         Combined Method  \n",
      "CRIM           -0.108568  \n",
      "ZN                   NaN  \n",
      "INDUS                NaN  \n",
      "CHAS            2.875249  \n",
      "NOX           -17.953929  \n",
      "RM              4.463746  \n",
      "AGE                  NaN  \n",
      "DIS            -1.234960  \n",
      "RAD             0.238116  \n",
      "TAX            -0.007795  \n",
      "PTRATIO        -1.012242  \n",
      "B               0.012274  \n",
      "LSTAT          -0.510235  \n"
     ]
    }
   ],
   "source": [
    "import pandas as pd\n",
    "\n",
    "# Dictionary to store coefficients\n",
    "coefficients_dict = {}\n",
    "\n",
    "# Function to extract coefficients from a model\n",
    "def get_coefficients(model, feature_names):\n",
    "    if hasattr(model, \"coef_\"):  # sklearn model\n",
    "        coeff = pd.Series(model.coef_, index=feature_names)\n",
    "        coeff[\"Intercept\"] = model.intercept_\n",
    "    elif hasattr(model, \"params\"):  # statsmodels model\n",
    "        coeff = model.params  # statsmodels already includes intercept\n",
    "    else:\n",
    "        raise AttributeError(\"Unknown model type: No 'coef_' or 'params' attribute found.\")\n",
    "    return coeff\n",
    "\n",
    "# Store coefficients for each model\n",
    "coefficients_dict[\"All Variables\"] = get_coefficients(model_all, X_train.columns)\n",
    "coefficients_dict[\"Backward Elimination\"] = get_coefficients(model_be, X_train_be.columns)\n",
    "coefficients_dict[\"Forward Selection\"] = get_coefficients(model_fs, X_train_fs.columns)\n",
    "coefficients_dict[\"Combined Method\"] = get_coefficients(model_combined, X_train_combined.columns)\n",
    "\n",
    "# Convert dictionary to DataFrame\n",
    "coefficients_df = pd.DataFrame(coefficients_dict)\n",
    "\n",
    "# Align columns across all models\n",
    "coefficients_df = coefficients_df.reindex(X_train.columns, fill_value=0)\n",
    "\n",
    "# Display coefficient comparison\n",
    "print(\"\\nComparison of Coefficients:\")\n",
    "print(coefficients_df)\n",
    "\n"
   ]
  },
  {
   "cell_type": "code",
   "execution_count": null,
   "id": "0667e73f-b391-48a0-aa90-305377a1ac81",
   "metadata": {},
   "outputs": [],
   "source": []
  }
 ],
 "metadata": {
  "kernelspec": {
   "display_name": "Python 3 (ipykernel)",
   "language": "python",
   "name": "python3"
  },
  "language_info": {
   "codemirror_mode": {
    "name": "ipython",
    "version": 3
   },
   "file_extension": ".py",
   "mimetype": "text/x-python",
   "name": "python",
   "nbconvert_exporter": "python",
   "pygments_lexer": "ipython3",
   "version": "3.11.1"
  }
 },
 "nbformat": 4,
 "nbformat_minor": 5
}
